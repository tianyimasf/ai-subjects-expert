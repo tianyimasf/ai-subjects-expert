{
 "cells": [
  {
   "cell_type": "code",
   "execution_count": 1,
   "id": "c5263f4d-021e-4377-b9f1-1abf98c67646",
   "metadata": {},
   "outputs": [
    {
     "name": "stdout",
     "output_type": "stream",
     "text": [
      "<Response [200]>\n",
      "[{'title': 'Bending the Curve: Climate Change Solutions', 'textbook_page_url': 'https://open.umn.edu/opentextbooks/textbooks/bending-the-curve-climate-change-solutions'}, {'title': 'Community Resilience to Climate Change: Theory, Research and Practice', 'textbook_page_url': 'https://open.umn.edu/opentextbooks/textbooks/community-resilience-to-climate-change-theory-research-and-practice-hellman'}, {'title': 'Negotiating Climate Change in Crisis', 'textbook_page_url': 'https://open.umn.edu/opentextbooks/textbooks/negotiating-climate-change-in-crisis'}, {'title': 'Introduction to Climate Science - 1st Edition', 'textbook_page_url': 'https://open.umn.edu/opentextbooks/textbooks/introduction-to-climate-science-1st-edition-schmittner'}, {'title': 'Climate Toolkit: A Resource Manual for Science and Action - Version 2.0', 'textbook_page_url': 'https://open.umn.edu/opentextbooks/textbooks/climate-toolkit-a-resource-manual-for-science-and-action-granshaw'}, {'title': 'Permaculture Design: Tools for Climate Resilience', 'textbook_page_url': 'https://open.umn.edu/opentextbooks/textbooks/permaculture-design-tools-for-climate-resilience-milison'}, {'title': 'Climate Lessons: Environmental, Social, Local', 'textbook_page_url': 'https://open.umn.edu/opentextbooks/textbooks/climate-lessons-environmental-social-local'}, {'title': 'Climate Justice in Your Classroom', 'textbook_page_url': 'https://open.umn.edu/opentextbooks/textbooks/climate-justice-in-your-classroom'}, {'title': 'Becoming a Climate Conscious Lawyer: Climate and the Australian Legal System', 'textbook_page_url': 'https://open.umn.edu/opentextbooks/textbooks/becoming-a-climate-conscious-lawyer-climate-and-the-australian-legal-system'}, {'title': 'Focusing on Organizational Change', 'textbook_page_url': 'https://open.umn.edu/opentextbooks/textbooks/focusing-on-organizational-change'}]\n"
     ]
    },
    {
     "name": "stderr",
     "output_type": "stream",
     "text": [
      "C:\\Users\\inipo\\AppData\\Local\\Programs\\Python\\Python312\\Lib\\html\\parser.py:171: XMLParsedAsHTMLWarning: It looks like you're parsing an XML document using an HTML parser. If this really is an HTML document (maybe it's XHTML?), you can ignore or filter this warning. If it's XML, you should know that using an XML parser will be more reliable. To parse this document as XML, make sure you have the lxml package installed, and pass the keyword argument `features=\"xml\"` into the BeautifulSoup constructor.\n",
      "  k = self.parse_starttag(i)\n"
     ]
    }
   ],
   "source": [
    "import requests\n",
    "from bs4 import BeautifulSoup\n",
    "\n",
    "subject_search_words = \"Climate Change\"\n",
    "search_word = \"+\".join(subject_search_words.lower().split(\" \"))\n",
    "url = f\"https://open.umn.edu/opentextbooks/textbooks?q={search_word}\"\n",
    "\n",
    "# Making a GET request\n",
    "r = requests.get(url)\n",
    "\n",
    "print(r)\n",
    "\n",
    "# Parsing the HTML\n",
    "soup = BeautifulSoup(r.content, 'html.parser')\n",
    "entries = soup.find_all('entry')\n",
    "entries_obj = []\n",
    "for entry in entries:\n",
    "    title = entry.find(\"title\").text\n",
    "    textbook_page_url = entry.find(\"link\")[\"href\"]\n",
    "    entries_obj.append({\"title\": title, \"textbook_page_url\":textbook_page_url})\n",
    "                       \n",
    "print(entries_obj)"
   ]
  },
  {
   "cell_type": "code",
   "execution_count": null,
   "id": "1adfca2e-e7e7-4280-9782-d567e793c4a2",
   "metadata": {},
   "outputs": [],
   "source": [
    "soup = BeautifulSoup(response.content, 'html.parser')\n",
    "print(soup.prettify())"
   ]
  },
  {
   "cell_type": "markdown",
   "id": "2af024e6-1944-4fae-8bff-5cf11671742c",
   "metadata": {},
   "source": [
    "# Scraping Google Scholar"
   ]
  },
  {
   "cell_type": "code",
   "execution_count": 3,
   "id": "aa3098e0-a1c3-4ffd-a2ff-ae1082bdae1d",
   "metadata": {},
   "outputs": [
    {
     "name": "stdout",
     "output_type": "stream",
     "text": [
      "['https://link.springer.com/article/10.1007/s11356-022-19718-6', 'https://onlinelibrary.wiley.com/doi/am-pdf/10.1111/gcb.15569', 'https://edisciplinas.usp.br/pluginfile.php/8026068/mod_resource/content/1/REF01.pdf', 'https://www.ipcc.ch/report/ar6/wg1/downloads/report/IPCC_AR6_WGI_FrontMatter.pdf', 'https://www.pnas.org/doi/full/10.1073/pnas.2108146119?utm_campaign=Hot+News&utm_medium=email&_hsmi=221546516&_hsenc=p2ANqtz-87GNCqvTbaZKuJmpWreWTET3Au_1Kf1C3kEQZyOaR4MWXITkEIkggztscB5ZGXCZphpSiCTy0AOpQ_1I0iLebtCt82oQ&utm_content=221546516&utm_source=hs_email', 'https://link.springer.com/article/10.1007/s10311-020-01059-w', 'https://www.thelancet.com/journals/lanplh/article/PIIS2542-5196(21)00278-3/fulltext?ref=f-zin.faktograf.hr', 'https://www.nature.com/articles/s41579-021-00639-z.'] ['A review of the global climate change impacts, adaptation, and sustainable mitigation measures', 'Forest microclimates and climate change: Importance, drivers and future research agenda', 'Renewable energy and climate change', 'Climate change 2021: the physical science basis', 'Climate change 2022: Mitigation of climate change', 'Climate Endgame: Exploring catastrophic climate change scenarios', 'Climate anxiety: Psychological responses to climate change', 'Strategies for mitigation of climate change: a review']\n"
     ]
    }
   ],
   "source": [
    "subject = \"climate change\"\n",
    "start_page = 0\n",
    "start_year = 2020\n",
    "\n",
    "subject_str = \"+\".join(subject.split(\" \"))\n",
    "\n",
    "url = f\"https://scholar.google.com/scholar?start={start_page*10}&q={subject_str}&hl=en&as_sdt=0,6&as_ylo={start_year}\"\n",
    "r = requests.get(url)\n",
    "\n",
    "soup = BeautifulSoup(r.content, 'html.parser')\n",
    "pdf_links_elements = soup.find_all(\"div\", class_=\"gs_or_ggsm\")\n",
    "pdf_title_elements = soup.find_all(\"h3\", class_=\"gs_rt\")\n",
    "\n",
    "# print(soup.prettify())\n",
    "pdf_links, pdf_titles = [], []\n",
    "\n",
    "for link_e, title_e in zip(pdf_links_elements, pdf_title_elements):\n",
    "    link = link_e.find(\"a\")[\"href\"]\n",
    "    title = title_e.find(\"a\").text\n",
    "    pdf_links.append(link)\n",
    "    pdf_titles.append(title)\n",
    "\n",
    "print(pdf_links, pdf_titles)"
   ]
  },
  {
   "cell_type": "code",
   "execution_count": 4,
   "id": "0287f797-ab83-45d3-9196-4d150f44fcc3",
   "metadata": {},
   "outputs": [],
   "source": [
    "def get_entries_at_page(start_page, subject, start_year):\n",
    "    \n",
    "    subject_str = \"+\".join(subject.lower().split(\" \"))\n",
    "    url = f\"https://scholar.google.com/scholar?start={start_page*10}&q={subject_str}&hl=en&as_sdt=0,6&as_ylo={start_year}\"\n",
    "    r = requests.get(url)\n",
    "    soup = BeautifulSoup(r.content, 'html.parser')\n",
    "    \n",
    "    entries_e = soup.find_all(\"div\", class_=\"gs_r gs_or gs_scl\")\n",
    "    entries = []\n",
    "    \n",
    "    for entry_e in entries_e:\n",
    "        link_e = entry_e.find(\"div\", class_=\"gs_or_ggsm\")\n",
    "        if not link_e:\n",
    "            continue\n",
    "        file_type_str = link_e.find(\"span\").text\n",
    "        title_e = entry_e.find(\"h3\", class_=\"gs_rt\")\n",
    "        link = link_e.find(\"a\")[\"href\"]\n",
    "        title = title_e.find(\"a\").text\n",
    "        if \"HTML\" in file_type_str: file_type = \"HTML\"\n",
    "        if \"PDF\" in file_type_str: file_type = \"PDF\"\n",
    "        entries.append({\"title\": title, \"file_type\":file_type, \"link\":link})\n",
    "\n",
    "    return entries"
   ]
  },
  {
   "cell_type": "code",
   "execution_count": 5,
   "id": "4402eef9-a852-47af-8ac8-db15741bb4ba",
   "metadata": {},
   "outputs": [],
   "source": [
    "from tqdm import tqdm\n",
    "\n",
    "def get_entries(max_page, subject, start_year):\n",
    "    entries = []\n",
    "    for start_page in tqdm(range(max_page)):\n",
    "    \n",
    "        entries_page = get_entries_at_page(start_page, subject, start_year)\n",
    "        entries.extend(entries_page)\n",
    "    \n",
    "    return entries"
   ]
  },
  {
   "cell_type": "code",
   "execution_count": 6,
   "id": "4ddf821c-fd26-4059-b1d0-4c7900ecf12f",
   "metadata": {},
   "outputs": [
    {
     "name": "stderr",
     "output_type": "stream",
     "text": [
      "100%|██████████████████████████████████████████████████████████████████████████████████| 10/10 [00:09<00:00,  1.02it/s]\n"
     ]
    },
    {
     "data": {
      "text/plain": [
       "file_type\n",
       "PDF     49\n",
       "HTML    44\n",
       "Name: count, dtype: int64"
      ]
     },
     "execution_count": 6,
     "metadata": {},
     "output_type": "execute_result"
    }
   ],
   "source": [
    "import pandas as pd\n",
    "\n",
    "entries = get_entries(10, \"climate change\", 2020)\n",
    "entries_df = pd.DataFrame.from_records(entries)\n",
    "entries_df[\"file_type\"].value_counts()"
   ]
  },
  {
   "cell_type": "code",
   "execution_count": 11,
   "id": "16eb5bd9-4594-4a8c-936a-21c8d1b11e07",
   "metadata": {},
   "outputs": [
    {
     "data": {
      "text/html": [
       "<div>\n",
       "<style scoped>\n",
       "    .dataframe tbody tr th:only-of-type {\n",
       "        vertical-align: middle;\n",
       "    }\n",
       "\n",
       "    .dataframe tbody tr th {\n",
       "        vertical-align: top;\n",
       "    }\n",
       "\n",
       "    .dataframe thead th {\n",
       "        text-align: right;\n",
       "    }\n",
       "</style>\n",
       "<table border=\"1\" class=\"dataframe\">\n",
       "  <thead>\n",
       "    <tr style=\"text-align: right;\">\n",
       "      <th></th>\n",
       "      <th>title</th>\n",
       "      <th>file_type</th>\n",
       "      <th>link</th>\n",
       "    </tr>\n",
       "  </thead>\n",
       "  <tbody>\n",
       "    <tr>\n",
       "      <th>0</th>\n",
       "      <td>A review of the global climate change impacts,...</td>\n",
       "      <td>HTML</td>\n",
       "      <td>https://link.springer.com/article/10.1007/s113...</td>\n",
       "    </tr>\n",
       "    <tr>\n",
       "      <th>4</th>\n",
       "      <td>Climate Endgame: Exploring catastrophic climat...</td>\n",
       "      <td>HTML</td>\n",
       "      <td>https://www.pnas.org/doi/full/10.1073/pnas.210...</td>\n",
       "    </tr>\n",
       "    <tr>\n",
       "      <th>5</th>\n",
       "      <td>Strategies for mitigation of climate change: a...</td>\n",
       "      <td>HTML</td>\n",
       "      <td>https://link.springer.com/article/10.1007/s103...</td>\n",
       "    </tr>\n",
       "    <tr>\n",
       "      <th>6</th>\n",
       "      <td>Climate anxiety in children and young people a...</td>\n",
       "      <td>HTML</td>\n",
       "      <td>https://www.thelancet.com/journals/lanplh/arti...</td>\n",
       "    </tr>\n",
       "    <tr>\n",
       "      <th>7</th>\n",
       "      <td>Infectious disease in an era of global change</td>\n",
       "      <td>HTML</td>\n",
       "      <td>https://www.nature.com/articles/s41579-021-006...</td>\n",
       "    </tr>\n",
       "  </tbody>\n",
       "</table>\n",
       "</div>"
      ],
      "text/plain": [
       "                                               title file_type  \\\n",
       "0  A review of the global climate change impacts,...      HTML   \n",
       "4  Climate Endgame: Exploring catastrophic climat...      HTML   \n",
       "5  Strategies for mitigation of climate change: a...      HTML   \n",
       "6  Climate anxiety in children and young people a...      HTML   \n",
       "7      Infectious disease in an era of global change      HTML   \n",
       "\n",
       "                                                link  \n",
       "0  https://link.springer.com/article/10.1007/s113...  \n",
       "4  https://www.pnas.org/doi/full/10.1073/pnas.210...  \n",
       "5  https://link.springer.com/article/10.1007/s103...  \n",
       "6  https://www.thelancet.com/journals/lanplh/arti...  \n",
       "7  https://www.nature.com/articles/s41579-021-006...  "
      ]
     },
     "execution_count": 11,
     "metadata": {},
     "output_type": "execute_result"
    }
   ],
   "source": [
    "groups = entries_df.groupby(\"file_type\")\n",
    "\n",
    "html_files = list(groups)[0][1]\n",
    "html_files.head()"
   ]
  },
  {
   "cell_type": "code",
   "execution_count": 21,
   "id": "fcd2e1eb-387a-457e-9255-3ec89e2189c4",
   "metadata": {},
   "outputs": [
    {
     "data": {
      "text/plain": [
       "(44,\n",
       " ['www.cell.com',\n",
       "  'journals.sagepub.com',\n",
       "  'www.frontiersin.org',\n",
       "  'royalsocietypublishing.org',\n",
       "  'link.springer.com',\n",
       "  'www.nejm.org',\n",
       "  'www.mdpi.com',\n",
       "  'journals.ametsoc.org',\n",
       "  'academic.oup.com',\n",
       "  'www.science.org',\n",
       "  'www.ncbi.nlm.nih.gov',\n",
       "  'www.nature.com',\n",
       "  'www.annualreviews.org',\n",
       "  'iopscience.iop.org',\n",
       "  'www.pnas.org',\n",
       "  'www.sciencedirect.com',\n",
       "  'www.thelancet.com'])"
      ]
     },
     "execution_count": 21,
     "metadata": {},
     "output_type": "execute_result"
    }
   ],
   "source": [
    "websites = [link.replace(\"https://\", \"\").replace(\"http://\", \"\").split(\"/\")[0] for link in html_files[\"link\"]]\n",
    "websites_unique = list(set(websites))\n",
    "len(websites), websites_unique"
   ]
  }
 ],
 "metadata": {
  "kernelspec": {
   "display_name": "Python 3 (ipykernel)",
   "language": "python",
   "name": "python3"
  },
  "language_info": {
   "codemirror_mode": {
    "name": "ipython",
    "version": 3
   },
   "file_extension": ".py",
   "mimetype": "text/x-python",
   "name": "python",
   "nbconvert_exporter": "python",
   "pygments_lexer": "ipython3",
   "version": "3.12.3"
  }
 },
 "nbformat": 4,
 "nbformat_minor": 5
}
